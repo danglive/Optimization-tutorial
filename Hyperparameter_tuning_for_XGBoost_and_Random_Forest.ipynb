{
  "nbformat": 4,
  "nbformat_minor": 0,
  "metadata": {
    "colab": {
      "name": "Hyperparameter tuning for XGBoost and Random Forest.ipynb",
      "provenance": [],
      "include_colab_link": true
    },
    "kernelspec": {
      "name": "python3",
      "display_name": "Python 3"
    }
  },
  "cells": [
    {
      "cell_type": "markdown",
      "metadata": {
        "id": "view-in-github",
        "colab_type": "text"
      },
      "source": [
        "<a href=\"https://colab.research.google.com/github/danglive/Optimization-tutorial/blob/master/Hyperparameter_tuning_for_XGBoost_and_Random_Forest.ipynb\" target=\"_parent\"><img src=\"https://colab.research.google.com/assets/colab-badge.svg\" alt=\"Open In Colab\"/></a>"
      ]
    },
    {
      "cell_type": "markdown",
      "metadata": {
        "id": "3N_IN6WBZdYQ",
        "colab_type": "text"
      },
      "source": [
        "XGBoost and Random Forest with Bayesian Optimisation"
      ]
    },
    {
      "cell_type": "code",
      "metadata": {
        "id": "cM6_d1ETZphv",
        "colab_type": "code",
        "colab": {
          "base_uri": "https://localhost:8080/",
          "height": 101
        },
        "outputId": "81412a2b-5f59-4fad-8fc7-5d92b4b4b124"
      },
      "source": [
        "# Install the library\n",
        "!pip install bayesian-optimization"
      ],
      "execution_count": 7,
      "outputs": [
        {
          "output_type": "stream",
          "text": [
            "Requirement already satisfied: bayesian-optimization in /usr/local/lib/python3.6/dist-packages (1.0.1)\n",
            "Requirement already satisfied: scikit-learn>=0.18.0 in /usr/local/lib/python3.6/dist-packages (from bayesian-optimization) (0.21.3)\n",
            "Requirement already satisfied: numpy>=1.9.0 in /usr/local/lib/python3.6/dist-packages (from bayesian-optimization) (1.16.5)\n",
            "Requirement already satisfied: scipy>=0.14.0 in /usr/local/lib/python3.6/dist-packages (from bayesian-optimization) (1.3.1)\n",
            "Requirement already satisfied: joblib>=0.11 in /usr/local/lib/python3.6/dist-packages (from scikit-learn>=0.18.0->bayesian-optimization) (0.14.0)\n"
          ],
          "name": "stdout"
        }
      ]
    },
    {
      "cell_type": "code",
      "metadata": {
        "id": "K7BZZTshZ1mC",
        "colab_type": "code",
        "colab": {}
      },
      "source": [
        "#Import libraries\n",
        "import pandas as pd\n",
        "import numpy as np\n",
        "from bayes_opt import BayesianOptimization\n",
        "from sklearn.ensemble import RandomForestClassifier\n",
        "from sklearn.model_selection import cross_val_score"
      ],
      "execution_count": 0,
      "outputs": []
    },
    {
      "cell_type": "markdown",
      "metadata": {
        "id": "7QbNJnX3Z5Tc",
        "colab_type": "text"
      },
      "source": [
        "We define a function to run Bayesian optimization given data, function to optimize and its hyperparameters:"
      ]
    },
    {
      "cell_type": "code",
      "metadata": {
        "id": "2dsk5FnrZ7Px",
        "colab_type": "code",
        "colab": {}
      },
      "source": [
        "#Bayesian optimization\n",
        "def bayesian_optimization(dataset, function, parameters):\n",
        "   X_train, y_train, X_test, y_test = dataset\n",
        "   n_iterations = 5\n",
        "   gp_params = {\"alpha\": 1e-4}\n",
        "\n",
        "   BO = BayesianOptimization(function, parameters)\n",
        "   BO.maximize(n_iter=n_iterations, **gp_params)\n",
        "\n",
        "   return BO.max\n"
      ],
      "execution_count": 0,
      "outputs": []
    },
    {
      "cell_type": "markdown",
      "metadata": {
        "id": "cUBI-oLhZ8CW",
        "colab_type": "text"
      },
      "source": [
        "We define function to optimize which is Random Forest Classifier and its hyperparameters n_estimators, max_depth and min_samples_split. Additionally we use the mean of cross validation score on given dataset:"
      ]
    },
    {
      "cell_type": "code",
      "metadata": {
        "id": "JLgVGR4kZ-YT",
        "colab_type": "code",
        "colab": {}
      },
      "source": [
        "def rfc_optimization(cv_splits):\n",
        "    def function(n_estimators, max_depth, min_samples_split):\n",
        "        return cross_val_score(\n",
        "               RandomForestClassifier(\n",
        "                   n_estimators=int(max(n_estimators,0)),                                                               \n",
        "                   max_depth=int(max(max_depth,1)),\n",
        "                   min_samples_split=int(max(min_samples_split,2)), \n",
        "                   n_jobs=-1, \n",
        "                   random_state=42,   \n",
        "                   class_weight=\"balanced\"),  \n",
        "               X=X_train, \n",
        "               y=y_train, \n",
        "               cv=cv_splits,\n",
        "               scoring=\"roc_auc\",\n",
        "               n_jobs=-1).mean()\n",
        "\n",
        "    parameters = {\"n_estimators\": (10, 1000),\n",
        "                  \"max_depth\": (1, 150),\n",
        "                  \"min_samples_split\": (2, 10)}\n",
        "    \n",
        "    return function, parameters"
      ],
      "execution_count": 0,
      "outputs": []
    },
    {
      "cell_type": "markdown",
      "metadata": {
        "id": "SclEhPFSaDDa",
        "colab_type": "text"
      },
      "source": [
        "Analogically we define a function and hyperparameters for XGBoost classifier:"
      ]
    },
    {
      "cell_type": "code",
      "metadata": {
        "id": "VpSC4-BraAxL",
        "colab_type": "code",
        "colab": {}
      },
      "source": [
        "def xgb_optimization(cv_splits, eval_set):\n",
        "    def function(eta, gamma, max_depth):\n",
        "            return cross_val_score(\n",
        "                   xgb.XGBClassifier(\n",
        "                       objective=\"binary:logistic\",\n",
        "                       learning_rate=max(eta, 0),\n",
        "                       gamma=max(gamma, 0),\n",
        "                       max_depth=int(max_depth),                                               \n",
        "                       seed=42,\n",
        "                       nthread=-1,\n",
        "                       scale_pos_weight = len(y_train[y_train == 0])/\n",
        "                                          len(y_train[y_train == 1])),  \n",
        "                   X=X_train, \n",
        "                   y=y_train, \n",
        "                   cv=cv_splits,\n",
        "                   scoring=\"roc_auc\",\n",
        "                   fit_params={\n",
        "                        \"early_stopping_rounds\": 10, \n",
        "                        \"eval_metric\": \"auc\", \n",
        "                        \"eval_set\": eval_set},\n",
        "                   n_jobs=-1).mean()\n",
        "\n",
        "    parameters = {\"eta\": (0.001, 0.4),\n",
        "                  \"gamma\": (0, 20),\n",
        "                  \"max_depth\": (1, 2000)}\n",
        "    \n",
        "    return function, parameters"
      ],
      "execution_count": 0,
      "outputs": []
    },
    {
      "cell_type": "markdown",
      "metadata": {
        "id": "J44j-ttmaHVf",
        "colab_type": "text"
      },
      "source": [
        "Now based on chosen classifier we can optimize it and train the model:"
      ]
    },
    {
      "cell_type": "code",
      "metadata": {
        "id": "KGxgBHjuaIIy",
        "colab_type": "code",
        "colab": {}
      },
      "source": [
        "#Train model\n",
        "def train(X_train, y_train, X_test, y_test, function, parameters):\n",
        "    dataset = (X_train, y_train, X_test, y_test)\n",
        "    cv_splits = 4\n",
        "    \n",
        "    best_solution = bayesian_optimization(dataset, function, parameters)      \n",
        "    params = best_solution[\"params\"]\n",
        "\n",
        "    model = RandomForestClassifier(\n",
        "             n_estimators=int(max(params[\"n_estimators\"], 0)),\n",
        "             max_depth=int(max(params[\"max_depth\"], 1)),\n",
        "             min_samples_split=int(max(params[\"min_samples_split\"], 2)), \n",
        "             n_jobs=-1, \n",
        "             random_state=42,   \n",
        "             class_weight=\"balanced\")\n",
        "\n",
        "    model.fit(X_train, y_train)\n",
        "    \n",
        "    return model"
      ],
      "execution_count": 0,
      "outputs": []
    }
  ]
}